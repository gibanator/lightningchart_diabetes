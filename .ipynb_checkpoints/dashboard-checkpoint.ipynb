{
 "cells": [
  {
   "cell_type": "code",
   "id": "initial_id",
   "metadata": {
    "collapsed": true,
    "ExecuteTime": {
     "end_time": "2024-07-11T10:41:14.721456Z",
     "start_time": "2024-07-11T10:41:14.715178Z"
    }
   },
   "source": [
    "import os\n",
    "import pandas as pd\n",
    "pd.options.mode.chained_assignment = None\n",
    "import lightningchart as lc\n",
    "import random"
   ],
   "outputs": [],
   "execution_count": 29
  },
  {
   "metadata": {
    "ExecuteTime": {
     "end_time": "2024-07-11T10:41:14.770679Z",
     "start_time": "2024-07-11T10:41:14.761072Z"
    }
   },
   "cell_type": "code",
   "source": [
    "with open(\"license_key.txt\", \"r\") as file:  # License key is stored in 'license_key.txt'\n",
    "    key = file.read()\n",
    "lc.set_license(key)"
   ],
   "id": "53459070bf91a5f2",
   "outputs": [],
   "execution_count": 30
  },
  {
   "metadata": {
    "ExecuteTime": {
     "end_time": "2024-07-11T10:41:14.853525Z",
     "start_time": "2024-07-11T10:41:14.813418Z"
    }
   },
   "cell_type": "code",
   "source": [
    "df = pd.read_csv(\"data/diabetes.csv\")\n",
    "df"
   ],
   "id": "e93e72a73aa66846",
   "outputs": [
    {
     "data": {
      "text/plain": [
       "     Pregnancies  Glucose  BloodPressure  SkinThickness  Insulin   BMI  \\\n",
       "0              6      148             72             35        0  33.6   \n",
       "1              1       85             66             29        0  26.6   \n",
       "2              8      183             64              0        0  23.3   \n",
       "3              1       89             66             23       94  28.1   \n",
       "4              0      137             40             35      168  43.1   \n",
       "..           ...      ...            ...            ...      ...   ...   \n",
       "763           10      101             76             48      180  32.9   \n",
       "764            2      122             70             27        0  36.8   \n",
       "765            5      121             72             23      112  26.2   \n",
       "766            1      126             60              0        0  30.1   \n",
       "767            1       93             70             31        0  30.4   \n",
       "\n",
       "     DiabetesPedigreeFunction  Age  Outcome  \n",
       "0                       0.627   50        1  \n",
       "1                       0.351   31        0  \n",
       "2                       0.672   32        1  \n",
       "3                       0.167   21        0  \n",
       "4                       2.288   33        1  \n",
       "..                        ...  ...      ...  \n",
       "763                     0.171   63        0  \n",
       "764                     0.340   27        0  \n",
       "765                     0.245   30        0  \n",
       "766                     0.349   47        1  \n",
       "767                     0.315   23        0  \n",
       "\n",
       "[768 rows x 9 columns]"
      ],
      "text/html": [
       "<div>\n",
       "<style scoped>\n",
       "    .dataframe tbody tr th:only-of-type {\n",
       "        vertical-align: middle;\n",
       "    }\n",
       "\n",
       "    .dataframe tbody tr th {\n",
       "        vertical-align: top;\n",
       "    }\n",
       "\n",
       "    .dataframe thead th {\n",
       "        text-align: right;\n",
       "    }\n",
       "</style>\n",
       "<table border=\"1\" class=\"dataframe\">\n",
       "  <thead>\n",
       "    <tr style=\"text-align: right;\">\n",
       "      <th></th>\n",
       "      <th>Pregnancies</th>\n",
       "      <th>Glucose</th>\n",
       "      <th>BloodPressure</th>\n",
       "      <th>SkinThickness</th>\n",
       "      <th>Insulin</th>\n",
       "      <th>BMI</th>\n",
       "      <th>DiabetesPedigreeFunction</th>\n",
       "      <th>Age</th>\n",
       "      <th>Outcome</th>\n",
       "    </tr>\n",
       "  </thead>\n",
       "  <tbody>\n",
       "    <tr>\n",
       "      <th>0</th>\n",
       "      <td>6</td>\n",
       "      <td>148</td>\n",
       "      <td>72</td>\n",
       "      <td>35</td>\n",
       "      <td>0</td>\n",
       "      <td>33.6</td>\n",
       "      <td>0.627</td>\n",
       "      <td>50</td>\n",
       "      <td>1</td>\n",
       "    </tr>\n",
       "    <tr>\n",
       "      <th>1</th>\n",
       "      <td>1</td>\n",
       "      <td>85</td>\n",
       "      <td>66</td>\n",
       "      <td>29</td>\n",
       "      <td>0</td>\n",
       "      <td>26.6</td>\n",
       "      <td>0.351</td>\n",
       "      <td>31</td>\n",
       "      <td>0</td>\n",
       "    </tr>\n",
       "    <tr>\n",
       "      <th>2</th>\n",
       "      <td>8</td>\n",
       "      <td>183</td>\n",
       "      <td>64</td>\n",
       "      <td>0</td>\n",
       "      <td>0</td>\n",
       "      <td>23.3</td>\n",
       "      <td>0.672</td>\n",
       "      <td>32</td>\n",
       "      <td>1</td>\n",
       "    </tr>\n",
       "    <tr>\n",
       "      <th>3</th>\n",
       "      <td>1</td>\n",
       "      <td>89</td>\n",
       "      <td>66</td>\n",
       "      <td>23</td>\n",
       "      <td>94</td>\n",
       "      <td>28.1</td>\n",
       "      <td>0.167</td>\n",
       "      <td>21</td>\n",
       "      <td>0</td>\n",
       "    </tr>\n",
       "    <tr>\n",
       "      <th>4</th>\n",
       "      <td>0</td>\n",
       "      <td>137</td>\n",
       "      <td>40</td>\n",
       "      <td>35</td>\n",
       "      <td>168</td>\n",
       "      <td>43.1</td>\n",
       "      <td>2.288</td>\n",
       "      <td>33</td>\n",
       "      <td>1</td>\n",
       "    </tr>\n",
       "    <tr>\n",
       "      <th>...</th>\n",
       "      <td>...</td>\n",
       "      <td>...</td>\n",
       "      <td>...</td>\n",
       "      <td>...</td>\n",
       "      <td>...</td>\n",
       "      <td>...</td>\n",
       "      <td>...</td>\n",
       "      <td>...</td>\n",
       "      <td>...</td>\n",
       "    </tr>\n",
       "    <tr>\n",
       "      <th>763</th>\n",
       "      <td>10</td>\n",
       "      <td>101</td>\n",
       "      <td>76</td>\n",
       "      <td>48</td>\n",
       "      <td>180</td>\n",
       "      <td>32.9</td>\n",
       "      <td>0.171</td>\n",
       "      <td>63</td>\n",
       "      <td>0</td>\n",
       "    </tr>\n",
       "    <tr>\n",
       "      <th>764</th>\n",
       "      <td>2</td>\n",
       "      <td>122</td>\n",
       "      <td>70</td>\n",
       "      <td>27</td>\n",
       "      <td>0</td>\n",
       "      <td>36.8</td>\n",
       "      <td>0.340</td>\n",
       "      <td>27</td>\n",
       "      <td>0</td>\n",
       "    </tr>\n",
       "    <tr>\n",
       "      <th>765</th>\n",
       "      <td>5</td>\n",
       "      <td>121</td>\n",
       "      <td>72</td>\n",
       "      <td>23</td>\n",
       "      <td>112</td>\n",
       "      <td>26.2</td>\n",
       "      <td>0.245</td>\n",
       "      <td>30</td>\n",
       "      <td>0</td>\n",
       "    </tr>\n",
       "    <tr>\n",
       "      <th>766</th>\n",
       "      <td>1</td>\n",
       "      <td>126</td>\n",
       "      <td>60</td>\n",
       "      <td>0</td>\n",
       "      <td>0</td>\n",
       "      <td>30.1</td>\n",
       "      <td>0.349</td>\n",
       "      <td>47</td>\n",
       "      <td>1</td>\n",
       "    </tr>\n",
       "    <tr>\n",
       "      <th>767</th>\n",
       "      <td>1</td>\n",
       "      <td>93</td>\n",
       "      <td>70</td>\n",
       "      <td>31</td>\n",
       "      <td>0</td>\n",
       "      <td>30.4</td>\n",
       "      <td>0.315</td>\n",
       "      <td>23</td>\n",
       "      <td>0</td>\n",
       "    </tr>\n",
       "  </tbody>\n",
       "</table>\n",
       "<p>768 rows × 9 columns</p>\n",
       "</div>"
      ]
     },
     "execution_count": 31,
     "metadata": {},
     "output_type": "execute_result"
    }
   ],
   "execution_count": 31
  },
  {
   "metadata": {
    "ExecuteTime": {
     "end_time": "2024-07-11T10:41:14.885651Z",
     "start_time": "2024-07-11T10:41:14.875401Z"
    }
   },
   "cell_type": "code",
   "source": "df = df[(df['Glucose'] != 0) & (df['Insulin'] != 0) & (df['BMI'] != 0)]",
   "id": "3e70896a6897d36c",
   "outputs": [],
   "execution_count": 32
  },
  {
   "metadata": {
    "ExecuteTime": {
     "end_time": "2024-07-11T10:41:14.929752Z",
     "start_time": "2024-07-11T10:41:14.918811Z"
    }
   },
   "cell_type": "code",
   "source": [
    "ages = df[\"Age\"]\n",
    "print(\"Min age: \", min(ages), \"\\nMax: \", max(ages))"
   ],
   "id": "4909c52071f4d4d4",
   "outputs": [
    {
     "name": "stdout",
     "output_type": "stream",
     "text": [
      "Min age:  21 \n",
      "Max:  81\n"
     ]
    }
   ],
   "execution_count": 33
  },
  {
   "metadata": {
    "ExecuteTime": {
     "end_time": "2024-07-11T10:41:14.988164Z",
     "start_time": "2024-07-11T10:41:14.955739Z"
    }
   },
   "cell_type": "code",
   "source": [
    "bins = [20, 30, 50, 81]\n",
    "labels = ['21-30', '31-50', '51-81']\n",
    "\n",
    "df[\"Age_range\"] = pd.cut(df[\"Age\"], bins=bins, labels=labels, right=True)\n",
    "df[\"Outcome_label\"] = df[\"Outcome\"].replace({0: 'Diabetes Negative', 1: 'Diabetes Positive'})\n",
    "\n",
    "df"
   ],
   "id": "13b012c13a8e2898",
   "outputs": [
    {
     "data": {
      "text/plain": [
       "     Pregnancies  Glucose  BloodPressure  SkinThickness  Insulin   BMI  \\\n",
       "3              1       89             66             23       94  28.1   \n",
       "4              0      137             40             35      168  43.1   \n",
       "6              3       78             50             32       88  31.0   \n",
       "8              2      197             70             45      543  30.5   \n",
       "13             1      189             60             23      846  30.1   \n",
       "..           ...      ...            ...            ...      ...   ...   \n",
       "753            0      181             88             44      510  43.3   \n",
       "755            1      128             88             39      110  36.5   \n",
       "760            2       88             58             26       16  28.4   \n",
       "763           10      101             76             48      180  32.9   \n",
       "765            5      121             72             23      112  26.2   \n",
       "\n",
       "     DiabetesPedigreeFunction  Age  Outcome Age_range      Outcome_label  \n",
       "3                       0.167   21        0     21-30  Diabetes Negative  \n",
       "4                       2.288   33        1     31-50  Diabetes Positive  \n",
       "6                       0.248   26        1     21-30  Diabetes Positive  \n",
       "8                       0.158   53        1     51-81  Diabetes Positive  \n",
       "13                      0.398   59        1     51-81  Diabetes Positive  \n",
       "..                        ...  ...      ...       ...                ...  \n",
       "753                     0.222   26        1     21-30  Diabetes Positive  \n",
       "755                     1.057   37        1     31-50  Diabetes Positive  \n",
       "760                     0.766   22        0     21-30  Diabetes Negative  \n",
       "763                     0.171   63        0     51-81  Diabetes Negative  \n",
       "765                     0.245   30        0     21-30  Diabetes Negative  \n",
       "\n",
       "[392 rows x 11 columns]"
      ],
      "text/html": [
       "<div>\n",
       "<style scoped>\n",
       "    .dataframe tbody tr th:only-of-type {\n",
       "        vertical-align: middle;\n",
       "    }\n",
       "\n",
       "    .dataframe tbody tr th {\n",
       "        vertical-align: top;\n",
       "    }\n",
       "\n",
       "    .dataframe thead th {\n",
       "        text-align: right;\n",
       "    }\n",
       "</style>\n",
       "<table border=\"1\" class=\"dataframe\">\n",
       "  <thead>\n",
       "    <tr style=\"text-align: right;\">\n",
       "      <th></th>\n",
       "      <th>Pregnancies</th>\n",
       "      <th>Glucose</th>\n",
       "      <th>BloodPressure</th>\n",
       "      <th>SkinThickness</th>\n",
       "      <th>Insulin</th>\n",
       "      <th>BMI</th>\n",
       "      <th>DiabetesPedigreeFunction</th>\n",
       "      <th>Age</th>\n",
       "      <th>Outcome</th>\n",
       "      <th>Age_range</th>\n",
       "      <th>Outcome_label</th>\n",
       "    </tr>\n",
       "  </thead>\n",
       "  <tbody>\n",
       "    <tr>\n",
       "      <th>3</th>\n",
       "      <td>1</td>\n",
       "      <td>89</td>\n",
       "      <td>66</td>\n",
       "      <td>23</td>\n",
       "      <td>94</td>\n",
       "      <td>28.1</td>\n",
       "      <td>0.167</td>\n",
       "      <td>21</td>\n",
       "      <td>0</td>\n",
       "      <td>21-30</td>\n",
       "      <td>Diabetes Negative</td>\n",
       "    </tr>\n",
       "    <tr>\n",
       "      <th>4</th>\n",
       "      <td>0</td>\n",
       "      <td>137</td>\n",
       "      <td>40</td>\n",
       "      <td>35</td>\n",
       "      <td>168</td>\n",
       "      <td>43.1</td>\n",
       "      <td>2.288</td>\n",
       "      <td>33</td>\n",
       "      <td>1</td>\n",
       "      <td>31-50</td>\n",
       "      <td>Diabetes Positive</td>\n",
       "    </tr>\n",
       "    <tr>\n",
       "      <th>6</th>\n",
       "      <td>3</td>\n",
       "      <td>78</td>\n",
       "      <td>50</td>\n",
       "      <td>32</td>\n",
       "      <td>88</td>\n",
       "      <td>31.0</td>\n",
       "      <td>0.248</td>\n",
       "      <td>26</td>\n",
       "      <td>1</td>\n",
       "      <td>21-30</td>\n",
       "      <td>Diabetes Positive</td>\n",
       "    </tr>\n",
       "    <tr>\n",
       "      <th>8</th>\n",
       "      <td>2</td>\n",
       "      <td>197</td>\n",
       "      <td>70</td>\n",
       "      <td>45</td>\n",
       "      <td>543</td>\n",
       "      <td>30.5</td>\n",
       "      <td>0.158</td>\n",
       "      <td>53</td>\n",
       "      <td>1</td>\n",
       "      <td>51-81</td>\n",
       "      <td>Diabetes Positive</td>\n",
       "    </tr>\n",
       "    <tr>\n",
       "      <th>13</th>\n",
       "      <td>1</td>\n",
       "      <td>189</td>\n",
       "      <td>60</td>\n",
       "      <td>23</td>\n",
       "      <td>846</td>\n",
       "      <td>30.1</td>\n",
       "      <td>0.398</td>\n",
       "      <td>59</td>\n",
       "      <td>1</td>\n",
       "      <td>51-81</td>\n",
       "      <td>Diabetes Positive</td>\n",
       "    </tr>\n",
       "    <tr>\n",
       "      <th>...</th>\n",
       "      <td>...</td>\n",
       "      <td>...</td>\n",
       "      <td>...</td>\n",
       "      <td>...</td>\n",
       "      <td>...</td>\n",
       "      <td>...</td>\n",
       "      <td>...</td>\n",
       "      <td>...</td>\n",
       "      <td>...</td>\n",
       "      <td>...</td>\n",
       "      <td>...</td>\n",
       "    </tr>\n",
       "    <tr>\n",
       "      <th>753</th>\n",
       "      <td>0</td>\n",
       "      <td>181</td>\n",
       "      <td>88</td>\n",
       "      <td>44</td>\n",
       "      <td>510</td>\n",
       "      <td>43.3</td>\n",
       "      <td>0.222</td>\n",
       "      <td>26</td>\n",
       "      <td>1</td>\n",
       "      <td>21-30</td>\n",
       "      <td>Diabetes Positive</td>\n",
       "    </tr>\n",
       "    <tr>\n",
       "      <th>755</th>\n",
       "      <td>1</td>\n",
       "      <td>128</td>\n",
       "      <td>88</td>\n",
       "      <td>39</td>\n",
       "      <td>110</td>\n",
       "      <td>36.5</td>\n",
       "      <td>1.057</td>\n",
       "      <td>37</td>\n",
       "      <td>1</td>\n",
       "      <td>31-50</td>\n",
       "      <td>Diabetes Positive</td>\n",
       "    </tr>\n",
       "    <tr>\n",
       "      <th>760</th>\n",
       "      <td>2</td>\n",
       "      <td>88</td>\n",
       "      <td>58</td>\n",
       "      <td>26</td>\n",
       "      <td>16</td>\n",
       "      <td>28.4</td>\n",
       "      <td>0.766</td>\n",
       "      <td>22</td>\n",
       "      <td>0</td>\n",
       "      <td>21-30</td>\n",
       "      <td>Diabetes Negative</td>\n",
       "    </tr>\n",
       "    <tr>\n",
       "      <th>763</th>\n",
       "      <td>10</td>\n",
       "      <td>101</td>\n",
       "      <td>76</td>\n",
       "      <td>48</td>\n",
       "      <td>180</td>\n",
       "      <td>32.9</td>\n",
       "      <td>0.171</td>\n",
       "      <td>63</td>\n",
       "      <td>0</td>\n",
       "      <td>51-81</td>\n",
       "      <td>Diabetes Negative</td>\n",
       "    </tr>\n",
       "    <tr>\n",
       "      <th>765</th>\n",
       "      <td>5</td>\n",
       "      <td>121</td>\n",
       "      <td>72</td>\n",
       "      <td>23</td>\n",
       "      <td>112</td>\n",
       "      <td>26.2</td>\n",
       "      <td>0.245</td>\n",
       "      <td>30</td>\n",
       "      <td>0</td>\n",
       "      <td>21-30</td>\n",
       "      <td>Diabetes Negative</td>\n",
       "    </tr>\n",
       "  </tbody>\n",
       "</table>\n",
       "<p>392 rows × 11 columns</p>\n",
       "</div>"
      ]
     },
     "execution_count": 34,
     "metadata": {},
     "output_type": "execute_result"
    }
   ],
   "execution_count": 34
  },
  {
   "metadata": {
    "ExecuteTime": {
     "end_time": "2024-07-11T10:41:15.085549Z",
     "start_time": "2024-07-11T10:41:15.055928Z"
    }
   },
   "cell_type": "code",
   "source": [
    "glucose = df[\"Glucose\"].tolist()\n",
    "BMI = df[\"BMI\"].tolist()\n",
    "outcome = df[\"Outcome\"].tolist()\n",
    "scatter = lc.ScatterChart(\n",
    "    theme=lc.Themes.White,\n",
    "    title='Scatter Chart',\n",
    "    point_shape='triangle',\n",
    "    xlabel='BMI',\n",
    "    ylabel='glucose',\n",
    "    individual_colors=True,\n",
    "    individual_lookup_values=True,\n",
    "    point_size=7\n",
    ")\n",
    "\n",
    "series = scatter.series.append_samples(\n",
    "    x_values=BMI,\n",
    "    y_values=glucose,\n",
    "    lookup_values=outcome\n",
    ")\n",
    "\n",
    "series.set_palette_colors(\n",
    "    steps=[\n",
    "        {'value': 0, 'color': lc.Color(0, 255, 0, 128)},\n",
    "        {'value': 1, 'color': lc.Color(255, 0, 0, 128)},\n",
    "    ],\n",
    "    look_up_property='value',\n",
    "    percentage_values=False\n",
    ")\n",
    "scatter.get_default_x_axis().set_title(\"BMI\")\n",
    "scatter.get_default_y_axis().set_title(\"Glucose\")\n",
    "scatter.add_legend().add(scatter)\n",
    "scatter.open()"
   ],
   "id": "e825a81844bf2773",
   "outputs": [
    {
     "data": {
      "text/plain": [
       "<IPython.lib.display.IFrame at 0x11a84f890>"
      ],
      "text/html": [
       "\n",
       "        <iframe\n",
       "            width=\"100%\"\n",
       "            height=\"600\"\n",
       "            src=\"http://localhost:60319\"\n",
       "            frameborder=\"0\"\n",
       "            allowfullscreen\n",
       "            \n",
       "        ></iframe>\n",
       "        "
      ]
     },
     "execution_count": 35,
     "metadata": {},
     "output_type": "execute_result"
    }
   ],
   "execution_count": 35
  },
  {
   "metadata": {
    "ExecuteTime": {
     "end_time": "2024-07-11T10:41:15.254944Z",
     "start_time": "2024-07-11T10:41:15.200945Z"
    }
   },
   "cell_type": "code",
   "source": [
    "age = df[\"Age\"].tolist()\n",
    "\n",
    "scatter3d = lc.Chart3D(\n",
    "    theme=lc.Themes.White,\n",
    "    title='Chart 3D',\n",
    ")\n",
    "\n",
    "series = scatter3d.add_point_series(\n",
    "    render_2d=False,\n",
    "    individual_lookup_values_enabled=True,\n",
    "    individual_point_color_enabled=True,\n",
    "    individual_point_size_axis_enabled=True,\n",
    ")\n",
    "\n",
    "data = [{'x': a, 'y': b, 'z': c, 'value': d} for a, b, c, d in zip(BMI, glucose, age, outcome)]\n",
    "\n",
    "series.add(data)\n",
    "\n",
    "series.set_point_shape('sphere')\n",
    "series.set_palette_point_colors(\n",
    "    steps=[\n",
    "        {'value': 0, 'color': lc.Color(0, 255, 0)},\n",
    "        {'value': 1, 'color': lc.Color(255, 0, 0)},\n",
    "    ],\n",
    "    look_up_property='value',\n",
    "    interpolate=True,\n",
    "    percentage_values=False\n",
    ")\n",
    "scatter3d.get_default_x_axis().set_title(\"BMI\")\n",
    "scatter3d.get_default_y_axis().set_title(\"Glucose\")\n",
    "scatter3d.get_default_z_axis().set_title(\"Age\")\n",
    "scatter3d.add_legend().add(scatter3d)\n",
    "scatter3d.open()"
   ],
   "id": "fac332baedadc6d3",
   "outputs": [
    {
     "data": {
      "text/plain": [
       "<IPython.lib.display.IFrame at 0x11a8aae90>"
      ],
      "text/html": [
       "\n",
       "        <iframe\n",
       "            width=\"100%\"\n",
       "            height=\"600\"\n",
       "            src=\"http://localhost:60320\"\n",
       "            frameborder=\"0\"\n",
       "            allowfullscreen\n",
       "            \n",
       "        ></iframe>\n",
       "        "
      ]
     },
     "execution_count": 36,
     "metadata": {},
     "output_type": "execute_result"
    }
   ],
   "execution_count": 36
  },
  {
   "metadata": {
    "ExecuteTime": {
     "end_time": "2024-07-11T10:41:15.499219Z",
     "start_time": "2024-07-11T10:41:15.479847Z"
    }
   },
   "cell_type": "code",
   "source": [
    "outcome_counts = df.groupby(['Age_range', 'Outcome_label'], observed=True).size().unstack(fill_value=0).reset_index()\n",
    "\n",
    "result = []\n",
    "for outcome_label in ['Diabetes Negative', 'Diabetes Positive']:\n",
    "    values = outcome_counts[outcome_label].tolist()\n",
    "    result.append({\n",
    "        'subCategory': outcome_label,\n",
    "        'values': values\n",
    "    })"
   ],
   "id": "6a0ec4d75e7152be",
   "outputs": [],
   "execution_count": 37
  },
  {
   "metadata": {
    "ExecuteTime": {
     "end_time": "2024-07-11T10:41:16.060477Z",
     "start_time": "2024-07-11T10:41:15.991796Z"
    }
   },
   "cell_type": "code",
   "source": [
    "barchart_stacked = lc.BarChart(\n",
    "    vertical=True,\n",
    "    theme=lc.Themes.White,\n",
    "    title='Stacked Bar Chart',\n",
    ").set_value_label_display_mode('insideBar')\n",
    "barchart_stacked.set_data_stacked(labels, result)\n",
    "barchart_stacked.add_legend().add(barchart_stacked)\n",
    "barchart_stacked.open()"
   ],
   "id": "1d7c3c51392bbbfa",
   "outputs": [
    {
     "data": {
      "text/plain": [
       "<IPython.lib.display.IFrame at 0x11a855110>"
      ],
      "text/html": [
       "\n",
       "        <iframe\n",
       "            width=\"100%\"\n",
       "            height=\"600\"\n",
       "            src=\"http://localhost:60323\"\n",
       "            frameborder=\"0\"\n",
       "            allowfullscreen\n",
       "            \n",
       "        ></iframe>\n",
       "        "
      ]
     },
     "execution_count": 38,
     "metadata": {},
     "output_type": "execute_result"
    }
   ],
   "execution_count": 38
  },
  {
   "metadata": {
    "ExecuteTime": {
     "end_time": "2024-07-11T10:41:16.765607Z",
     "start_time": "2024-07-11T10:41:16.717908Z"
    }
   },
   "cell_type": "code",
   "source": [
    "glucose_diabetes = df[df['Outcome'] == 0]['Glucose'].values\n",
    "glucose_no_diabetes = df[df['Outcome'] == 1]['Glucose'].values\n",
    "\n",
    "boxplt = lc.BoxPlot(\n",
    "    data=[glucose_diabetes, glucose_no_diabetes],\n",
    "    theme=lc.Themes.White,\n",
    "    title='Glucose',\n",
    "    xlabel='No diabetes (left), Diabetes positive (right)',\n",
    "    ylabel='Glucose'\n",
    ")\n",
    "boxplt.open()"
   ],
   "id": "e6d02c7b29349f7d",
   "outputs": [
    {
     "data": {
      "text/plain": [
       "<IPython.lib.display.IFrame at 0x11a8aa190>"
      ],
      "text/html": [
       "\n",
       "        <iframe\n",
       "            width=\"100%\"\n",
       "            height=\"600\"\n",
       "            src=\"http://localhost:60324\"\n",
       "            frameborder=\"0\"\n",
       "            allowfullscreen\n",
       "            \n",
       "        ></iframe>\n",
       "        "
      ]
     },
     "execution_count": 39,
     "metadata": {},
     "output_type": "execute_result"
    }
   ],
   "execution_count": 39
  },
  {
   "metadata": {
    "ExecuteTime": {
     "end_time": "2024-07-11T10:41:17.401479Z",
     "start_time": "2024-07-11T10:41:17.370127Z"
    }
   },
   "cell_type": "code",
   "source": [
    "pregnancies_diabetes = df[df['Outcome'] == 0]['Pregnancies'].values\n",
    "pregnancies_no_diabetes = df[df['Outcome'] == 1]['Pregnancies'].values\n",
    "\n",
    "boxplt1 = lc.BoxPlot(\n",
    "    data=[pregnancies_diabetes, pregnancies_no_diabetes],\n",
    "    theme=lc.Themes.White,\n",
    "    title='Pregnancies',\n",
    "    xlabel='No diabetes (left), Diabetes positive (right)',\n",
    "    ylabel='Pregnancies'\n",
    ")\n",
    "boxplt1.open()"
   ],
   "id": "fd2cef52d8089ed0",
   "outputs": [
    {
     "data": {
      "text/plain": [
       "<IPython.lib.display.IFrame at 0x118c16d10>"
      ],
      "text/html": [
       "\n",
       "        <iframe\n",
       "            width=\"100%\"\n",
       "            height=\"600\"\n",
       "            src=\"http://localhost:60329\"\n",
       "            frameborder=\"0\"\n",
       "            allowfullscreen\n",
       "            \n",
       "        ></iframe>\n",
       "        "
      ]
     },
     "execution_count": 40,
     "metadata": {},
     "output_type": "execute_result"
    }
   ],
   "execution_count": 40
  },
  {
   "metadata": {
    "ExecuteTime": {
     "end_time": "2024-07-11T10:41:18.145649Z",
     "start_time": "2024-07-11T10:41:18.136467Z"
    }
   },
   "cell_type": "code",
   "source": "",
   "id": "7e60486d7b98301",
   "outputs": [],
   "execution_count": 40
  }
 ],
 "metadata": {
  "kernelspec": {
   "display_name": "Python 3",
   "language": "python",
   "name": "python3"
  },
  "language_info": {
   "codemirror_mode": {
    "name": "ipython",
    "version": 2
   },
   "file_extension": ".py",
   "mimetype": "text/x-python",
   "name": "python",
   "nbconvert_exporter": "python",
   "pygments_lexer": "ipython2",
   "version": "2.7.6"
  }
 },
 "nbformat": 4,
 "nbformat_minor": 5
}
