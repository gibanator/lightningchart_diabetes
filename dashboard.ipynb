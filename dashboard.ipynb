{
 "cells": [
  {
   "cell_type": "markdown",
   "id": "565c26ca755d79a1",
   "metadata": {},
   "source": [
    "## Importing necessary libraries"
   ]
  },
  {
   "cell_type": "code",
   "id": "initial_id",
   "metadata": {
    "ExecuteTime": {
     "end_time": "2024-07-16T07:00:42.895313Z",
     "start_time": "2024-07-16T07:00:12.161965Z"
    }
   },
   "source": [
    "import pandas as pd\n",
    "pd.options.mode.chained_assignment = None\n",
    "import lightningchart as lc"
   ],
   "outputs": [],
   "execution_count": 1
  },
  {
   "cell_type": "markdown",
   "id": "768571d3d1a5a009",
   "metadata": {},
   "source": [
    "### LC license set "
   ]
  },
  {
   "cell_type": "code",
   "id": "53459070bf91a5f2",
   "metadata": {
    "ExecuteTime": {
     "end_time": "2024-07-16T07:00:42.911016Z",
     "start_time": "2024-07-16T07:00:42.897928Z"
    }
   },
   "source": [
    "with open(\"license_key.txt\", \"r\") as file:  # License key is stored in 'license_key.txt'\n",
    "    key = file.read()\n",
    "lc.set_license(key)"
   ],
   "outputs": [],
   "execution_count": 2
  },
  {
   "cell_type": "markdown",
   "id": "4ecfebbc05c0cc5f",
   "metadata": {},
   "source": [
    "### Load contents from CSV file"
   ]
  },
  {
   "cell_type": "code",
   "id": "e93e72a73aa66846",
   "metadata": {
    "ExecuteTime": {
     "end_time": "2024-07-16T07:00:42.984520Z",
     "start_time": "2024-07-16T07:00:42.923605Z"
    }
   },
   "source": [
    "df = pd.read_csv(\"data/diabetes.csv\")\n",
    "df"
   ],
   "outputs": [
    {
     "data": {
      "text/plain": [
       "     Pregnancies  Glucose  BloodPressure  SkinThickness  Insulin   BMI  \\\n",
       "0              6      148             72             35        0  33.6   \n",
       "1              1       85             66             29        0  26.6   \n",
       "2              8      183             64              0        0  23.3   \n",
       "3              1       89             66             23       94  28.1   \n",
       "4              0      137             40             35      168  43.1   \n",
       "..           ...      ...            ...            ...      ...   ...   \n",
       "763           10      101             76             48      180  32.9   \n",
       "764            2      122             70             27        0  36.8   \n",
       "765            5      121             72             23      112  26.2   \n",
       "766            1      126             60              0        0  30.1   \n",
       "767            1       93             70             31        0  30.4   \n",
       "\n",
       "     DiabetesPedigreeFunction  Age  Outcome  \n",
       "0                       0.627   50        1  \n",
       "1                       0.351   31        0  \n",
       "2                       0.672   32        1  \n",
       "3                       0.167   21        0  \n",
       "4                       2.288   33        1  \n",
       "..                        ...  ...      ...  \n",
       "763                     0.171   63        0  \n",
       "764                     0.340   27        0  \n",
       "765                     0.245   30        0  \n",
       "766                     0.349   47        1  \n",
       "767                     0.315   23        0  \n",
       "\n",
       "[768 rows x 9 columns]"
      ],
      "text/html": [
       "<div>\n",
       "<style scoped>\n",
       "    .dataframe tbody tr th:only-of-type {\n",
       "        vertical-align: middle;\n",
       "    }\n",
       "\n",
       "    .dataframe tbody tr th {\n",
       "        vertical-align: top;\n",
       "    }\n",
       "\n",
       "    .dataframe thead th {\n",
       "        text-align: right;\n",
       "    }\n",
       "</style>\n",
       "<table border=\"1\" class=\"dataframe\">\n",
       "  <thead>\n",
       "    <tr style=\"text-align: right;\">\n",
       "      <th></th>\n",
       "      <th>Pregnancies</th>\n",
       "      <th>Glucose</th>\n",
       "      <th>BloodPressure</th>\n",
       "      <th>SkinThickness</th>\n",
       "      <th>Insulin</th>\n",
       "      <th>BMI</th>\n",
       "      <th>DiabetesPedigreeFunction</th>\n",
       "      <th>Age</th>\n",
       "      <th>Outcome</th>\n",
       "    </tr>\n",
       "  </thead>\n",
       "  <tbody>\n",
       "    <tr>\n",
       "      <th>0</th>\n",
       "      <td>6</td>\n",
       "      <td>148</td>\n",
       "      <td>72</td>\n",
       "      <td>35</td>\n",
       "      <td>0</td>\n",
       "      <td>33.6</td>\n",
       "      <td>0.627</td>\n",
       "      <td>50</td>\n",
       "      <td>1</td>\n",
       "    </tr>\n",
       "    <tr>\n",
       "      <th>1</th>\n",
       "      <td>1</td>\n",
       "      <td>85</td>\n",
       "      <td>66</td>\n",
       "      <td>29</td>\n",
       "      <td>0</td>\n",
       "      <td>26.6</td>\n",
       "      <td>0.351</td>\n",
       "      <td>31</td>\n",
       "      <td>0</td>\n",
       "    </tr>\n",
       "    <tr>\n",
       "      <th>2</th>\n",
       "      <td>8</td>\n",
       "      <td>183</td>\n",
       "      <td>64</td>\n",
       "      <td>0</td>\n",
       "      <td>0</td>\n",
       "      <td>23.3</td>\n",
       "      <td>0.672</td>\n",
       "      <td>32</td>\n",
       "      <td>1</td>\n",
       "    </tr>\n",
       "    <tr>\n",
       "      <th>3</th>\n",
       "      <td>1</td>\n",
       "      <td>89</td>\n",
       "      <td>66</td>\n",
       "      <td>23</td>\n",
       "      <td>94</td>\n",
       "      <td>28.1</td>\n",
       "      <td>0.167</td>\n",
       "      <td>21</td>\n",
       "      <td>0</td>\n",
       "    </tr>\n",
       "    <tr>\n",
       "      <th>4</th>\n",
       "      <td>0</td>\n",
       "      <td>137</td>\n",
       "      <td>40</td>\n",
       "      <td>35</td>\n",
       "      <td>168</td>\n",
       "      <td>43.1</td>\n",
       "      <td>2.288</td>\n",
       "      <td>33</td>\n",
       "      <td>1</td>\n",
       "    </tr>\n",
       "    <tr>\n",
       "      <th>...</th>\n",
       "      <td>...</td>\n",
       "      <td>...</td>\n",
       "      <td>...</td>\n",
       "      <td>...</td>\n",
       "      <td>...</td>\n",
       "      <td>...</td>\n",
       "      <td>...</td>\n",
       "      <td>...</td>\n",
       "      <td>...</td>\n",
       "    </tr>\n",
       "    <tr>\n",
       "      <th>763</th>\n",
       "      <td>10</td>\n",
       "      <td>101</td>\n",
       "      <td>76</td>\n",
       "      <td>48</td>\n",
       "      <td>180</td>\n",
       "      <td>32.9</td>\n",
       "      <td>0.171</td>\n",
       "      <td>63</td>\n",
       "      <td>0</td>\n",
       "    </tr>\n",
       "    <tr>\n",
       "      <th>764</th>\n",
       "      <td>2</td>\n",
       "      <td>122</td>\n",
       "      <td>70</td>\n",
       "      <td>27</td>\n",
       "      <td>0</td>\n",
       "      <td>36.8</td>\n",
       "      <td>0.340</td>\n",
       "      <td>27</td>\n",
       "      <td>0</td>\n",
       "    </tr>\n",
       "    <tr>\n",
       "      <th>765</th>\n",
       "      <td>5</td>\n",
       "      <td>121</td>\n",
       "      <td>72</td>\n",
       "      <td>23</td>\n",
       "      <td>112</td>\n",
       "      <td>26.2</td>\n",
       "      <td>0.245</td>\n",
       "      <td>30</td>\n",
       "      <td>0</td>\n",
       "    </tr>\n",
       "    <tr>\n",
       "      <th>766</th>\n",
       "      <td>1</td>\n",
       "      <td>126</td>\n",
       "      <td>60</td>\n",
       "      <td>0</td>\n",
       "      <td>0</td>\n",
       "      <td>30.1</td>\n",
       "      <td>0.349</td>\n",
       "      <td>47</td>\n",
       "      <td>1</td>\n",
       "    </tr>\n",
       "    <tr>\n",
       "      <th>767</th>\n",
       "      <td>1</td>\n",
       "      <td>93</td>\n",
       "      <td>70</td>\n",
       "      <td>31</td>\n",
       "      <td>0</td>\n",
       "      <td>30.4</td>\n",
       "      <td>0.315</td>\n",
       "      <td>23</td>\n",
       "      <td>0</td>\n",
       "    </tr>\n",
       "  </tbody>\n",
       "</table>\n",
       "<p>768 rows × 9 columns</p>\n",
       "</div>"
      ]
     },
     "execution_count": 3,
     "metadata": {},
     "output_type": "execute_result"
    }
   ],
   "execution_count": 3
  },
  {
   "cell_type": "markdown",
   "id": "1457b65f547e2ef8",
   "metadata": {},
   "source": [
    "### Deleting invalid entries"
   ]
  },
  {
   "cell_type": "code",
   "id": "3e70896a6897d36c",
   "metadata": {
    "ExecuteTime": {
     "end_time": "2024-07-16T07:00:43.032255Z",
     "start_time": "2024-07-16T07:00:42.990123Z"
    }
   },
   "source": [
    "df = df[(df['Glucose'] != 0) & (df['Insulin'] != 0) & (df['BMI'] != 0)]"
   ],
   "outputs": [],
   "execution_count": 4
  },
  {
   "cell_type": "markdown",
   "id": "648f0635a6db6ec2",
   "metadata": {},
   "source": [
    "## Dividing age by bins and giving outcome their labels"
   ]
  },
  {
   "cell_type": "code",
   "id": "4909c52071f4d4d4",
   "metadata": {
    "ExecuteTime": {
     "end_time": "2024-07-16T07:00:43.063201Z",
     "start_time": "2024-07-16T07:00:43.054472Z"
    }
   },
   "source": [
    "ages = df[\"Age\"]\n",
    "print(\"Min age: \", min(ages), \"\\nMax: \", max(ages))"
   ],
   "outputs": [
    {
     "name": "stdout",
     "output_type": "stream",
     "text": [
      "Min age:  21 \n",
      "Max:  81\n"
     ]
    }
   ],
   "execution_count": 5
  },
  {
   "cell_type": "code",
   "id": "13b012c13a8e2898",
   "metadata": {
    "ExecuteTime": {
     "end_time": "2024-07-16T07:00:43.117294Z",
     "start_time": "2024-07-16T07:00:43.068449Z"
    }
   },
   "source": [
    "bins = [20, 30, 50, 81]\n",
    "labels = ['21-30', '31-50', '51-81']\n",
    "\n",
    "df[\"Age_range\"] = pd.cut(df[\"Age\"], bins=bins, labels=labels, right=True)\n",
    "df[\"Outcome_label\"] = df[\"Outcome\"].replace({0: 'Diabetes Negative', 1: 'Diabetes Positive'})\n",
    "\n",
    "df"
   ],
   "outputs": [
    {
     "data": {
      "text/plain": [
       "     Pregnancies  Glucose  BloodPressure  SkinThickness  Insulin   BMI  \\\n",
       "3              1       89             66             23       94  28.1   \n",
       "4              0      137             40             35      168  43.1   \n",
       "6              3       78             50             32       88  31.0   \n",
       "8              2      197             70             45      543  30.5   \n",
       "13             1      189             60             23      846  30.1   \n",
       "..           ...      ...            ...            ...      ...   ...   \n",
       "753            0      181             88             44      510  43.3   \n",
       "755            1      128             88             39      110  36.5   \n",
       "760            2       88             58             26       16  28.4   \n",
       "763           10      101             76             48      180  32.9   \n",
       "765            5      121             72             23      112  26.2   \n",
       "\n",
       "     DiabetesPedigreeFunction  Age  Outcome Age_range      Outcome_label  \n",
       "3                       0.167   21        0     21-30  Diabetes Negative  \n",
       "4                       2.288   33        1     31-50  Diabetes Positive  \n",
       "6                       0.248   26        1     21-30  Diabetes Positive  \n",
       "8                       0.158   53        1     51-81  Diabetes Positive  \n",
       "13                      0.398   59        1     51-81  Diabetes Positive  \n",
       "..                        ...  ...      ...       ...                ...  \n",
       "753                     0.222   26        1     21-30  Diabetes Positive  \n",
       "755                     1.057   37        1     31-50  Diabetes Positive  \n",
       "760                     0.766   22        0     21-30  Diabetes Negative  \n",
       "763                     0.171   63        0     51-81  Diabetes Negative  \n",
       "765                     0.245   30        0     21-30  Diabetes Negative  \n",
       "\n",
       "[392 rows x 11 columns]"
      ],
      "text/html": [
       "<div>\n",
       "<style scoped>\n",
       "    .dataframe tbody tr th:only-of-type {\n",
       "        vertical-align: middle;\n",
       "    }\n",
       "\n",
       "    .dataframe tbody tr th {\n",
       "        vertical-align: top;\n",
       "    }\n",
       "\n",
       "    .dataframe thead th {\n",
       "        text-align: right;\n",
       "    }\n",
       "</style>\n",
       "<table border=\"1\" class=\"dataframe\">\n",
       "  <thead>\n",
       "    <tr style=\"text-align: right;\">\n",
       "      <th></th>\n",
       "      <th>Pregnancies</th>\n",
       "      <th>Glucose</th>\n",
       "      <th>BloodPressure</th>\n",
       "      <th>SkinThickness</th>\n",
       "      <th>Insulin</th>\n",
       "      <th>BMI</th>\n",
       "      <th>DiabetesPedigreeFunction</th>\n",
       "      <th>Age</th>\n",
       "      <th>Outcome</th>\n",
       "      <th>Age_range</th>\n",
       "      <th>Outcome_label</th>\n",
       "    </tr>\n",
       "  </thead>\n",
       "  <tbody>\n",
       "    <tr>\n",
       "      <th>3</th>\n",
       "      <td>1</td>\n",
       "      <td>89</td>\n",
       "      <td>66</td>\n",
       "      <td>23</td>\n",
       "      <td>94</td>\n",
       "      <td>28.1</td>\n",
       "      <td>0.167</td>\n",
       "      <td>21</td>\n",
       "      <td>0</td>\n",
       "      <td>21-30</td>\n",
       "      <td>Diabetes Negative</td>\n",
       "    </tr>\n",
       "    <tr>\n",
       "      <th>4</th>\n",
       "      <td>0</td>\n",
       "      <td>137</td>\n",
       "      <td>40</td>\n",
       "      <td>35</td>\n",
       "      <td>168</td>\n",
       "      <td>43.1</td>\n",
       "      <td>2.288</td>\n",
       "      <td>33</td>\n",
       "      <td>1</td>\n",
       "      <td>31-50</td>\n",
       "      <td>Diabetes Positive</td>\n",
       "    </tr>\n",
       "    <tr>\n",
       "      <th>6</th>\n",
       "      <td>3</td>\n",
       "      <td>78</td>\n",
       "      <td>50</td>\n",
       "      <td>32</td>\n",
       "      <td>88</td>\n",
       "      <td>31.0</td>\n",
       "      <td>0.248</td>\n",
       "      <td>26</td>\n",
       "      <td>1</td>\n",
       "      <td>21-30</td>\n",
       "      <td>Diabetes Positive</td>\n",
       "    </tr>\n",
       "    <tr>\n",
       "      <th>8</th>\n",
       "      <td>2</td>\n",
       "      <td>197</td>\n",
       "      <td>70</td>\n",
       "      <td>45</td>\n",
       "      <td>543</td>\n",
       "      <td>30.5</td>\n",
       "      <td>0.158</td>\n",
       "      <td>53</td>\n",
       "      <td>1</td>\n",
       "      <td>51-81</td>\n",
       "      <td>Diabetes Positive</td>\n",
       "    </tr>\n",
       "    <tr>\n",
       "      <th>13</th>\n",
       "      <td>1</td>\n",
       "      <td>189</td>\n",
       "      <td>60</td>\n",
       "      <td>23</td>\n",
       "      <td>846</td>\n",
       "      <td>30.1</td>\n",
       "      <td>0.398</td>\n",
       "      <td>59</td>\n",
       "      <td>1</td>\n",
       "      <td>51-81</td>\n",
       "      <td>Diabetes Positive</td>\n",
       "    </tr>\n",
       "    <tr>\n",
       "      <th>...</th>\n",
       "      <td>...</td>\n",
       "      <td>...</td>\n",
       "      <td>...</td>\n",
       "      <td>...</td>\n",
       "      <td>...</td>\n",
       "      <td>...</td>\n",
       "      <td>...</td>\n",
       "      <td>...</td>\n",
       "      <td>...</td>\n",
       "      <td>...</td>\n",
       "      <td>...</td>\n",
       "    </tr>\n",
       "    <tr>\n",
       "      <th>753</th>\n",
       "      <td>0</td>\n",
       "      <td>181</td>\n",
       "      <td>88</td>\n",
       "      <td>44</td>\n",
       "      <td>510</td>\n",
       "      <td>43.3</td>\n",
       "      <td>0.222</td>\n",
       "      <td>26</td>\n",
       "      <td>1</td>\n",
       "      <td>21-30</td>\n",
       "      <td>Diabetes Positive</td>\n",
       "    </tr>\n",
       "    <tr>\n",
       "      <th>755</th>\n",
       "      <td>1</td>\n",
       "      <td>128</td>\n",
       "      <td>88</td>\n",
       "      <td>39</td>\n",
       "      <td>110</td>\n",
       "      <td>36.5</td>\n",
       "      <td>1.057</td>\n",
       "      <td>37</td>\n",
       "      <td>1</td>\n",
       "      <td>31-50</td>\n",
       "      <td>Diabetes Positive</td>\n",
       "    </tr>\n",
       "    <tr>\n",
       "      <th>760</th>\n",
       "      <td>2</td>\n",
       "      <td>88</td>\n",
       "      <td>58</td>\n",
       "      <td>26</td>\n",
       "      <td>16</td>\n",
       "      <td>28.4</td>\n",
       "      <td>0.766</td>\n",
       "      <td>22</td>\n",
       "      <td>0</td>\n",
       "      <td>21-30</td>\n",
       "      <td>Diabetes Negative</td>\n",
       "    </tr>\n",
       "    <tr>\n",
       "      <th>763</th>\n",
       "      <td>10</td>\n",
       "      <td>101</td>\n",
       "      <td>76</td>\n",
       "      <td>48</td>\n",
       "      <td>180</td>\n",
       "      <td>32.9</td>\n",
       "      <td>0.171</td>\n",
       "      <td>63</td>\n",
       "      <td>0</td>\n",
       "      <td>51-81</td>\n",
       "      <td>Diabetes Negative</td>\n",
       "    </tr>\n",
       "    <tr>\n",
       "      <th>765</th>\n",
       "      <td>5</td>\n",
       "      <td>121</td>\n",
       "      <td>72</td>\n",
       "      <td>23</td>\n",
       "      <td>112</td>\n",
       "      <td>26.2</td>\n",
       "      <td>0.245</td>\n",
       "      <td>30</td>\n",
       "      <td>0</td>\n",
       "      <td>21-30</td>\n",
       "      <td>Diabetes Negative</td>\n",
       "    </tr>\n",
       "  </tbody>\n",
       "</table>\n",
       "<p>392 rows × 11 columns</p>\n",
       "</div>"
      ]
     },
     "execution_count": 6,
     "metadata": {},
     "output_type": "execute_result"
    }
   ],
   "execution_count": 6
  },
  {
   "cell_type": "markdown",
   "id": "794a640887189ef4",
   "metadata": {},
   "source": [
    "### Divide table into two (where 1 is diabetes negative, 2 is negative positive)"
   ]
  },
  {
   "cell_type": "code",
   "id": "915f15de03d5ccc5",
   "metadata": {
    "ExecuteTime": {
     "end_time": "2024-07-16T07:00:43.145376Z",
     "start_time": "2024-07-16T07:00:43.133315Z"
    }
   },
   "source": [
    "df_negative = df[df['Outcome'] == 0]\n",
    "df_positive = df[df['Outcome'] == 1]"
   ],
   "outputs": [],
   "execution_count": 7
  },
  {
   "cell_type": "markdown",
   "id": "3a701cad1a9b6381",
   "metadata": {},
   "source": [
    "## Creating BMI vs Glucose scatter chart\n",
    "\n",
    "Here we will make scatter chart consisting of two series - one for diabetes negative entries, other - for positive."
   ]
  },
  {
   "cell_type": "code",
   "id": "e825a81844bf2773",
   "metadata": {
    "ExecuteTime": {
     "end_time": "2024-07-16T07:00:43.195507Z",
     "start_time": "2024-07-16T07:00:43.167010Z"
    }
   },
   "source": [
    "glucose_negative = df_negative[\"Glucose\"].tolist()\n",
    "BMI_negative = df_negative[\"BMI\"].tolist()\n",
    "\n",
    "glucose_positive = df_positive[\"Glucose\"].tolist()\n",
    "BMI_positive = df_positive[\"BMI\"].tolist()\n",
    "\n",
    "scatter = lc.ChartXY(   # scatter chart intialization\n",
    "    theme=lc.Themes.White,  # overall theme\n",
    "    title='Scatter Chart (BMI vs Glucose)', \n",
    ")\n",
    "series_negative = scatter.add_point_series().add(\n",
    "    x=BMI_negative,  # push samples to series\n",
    "    y=glucose_negative,\n",
    ")\n",
    "series_positive = scatter.add_point_series().add(\n",
    "    x=BMI_positive,  \n",
    "    y=glucose_positive,\n",
    ")\n",
    "\n",
    "series_negative.set_point_color(lc.Color(0, 255, 0, 192)).set_name(\"Diabetes Negative\")\n",
    "series_positive.set_point_color(lc.Color(255, 0, 0, 192)).set_name(\"Diabetes Positive\")\n",
    "\n",
    "scatter.get_default_x_axis().set_title(\"BMI\")\n",
    "scatter.get_default_y_axis().set_title(\"Glucose\")\n",
    "scatter.add_legend().add(scatter)\n",
    "scatter.open()"
   ],
   "outputs": [
    {
     "data": {
      "text/plain": [
       "<IPython.lib.display.IFrame at 0x1156af5d0>"
      ],
      "text/html": [
       "\n",
       "        <iframe\n",
       "            width=\"100%\"\n",
       "            height=\"600\"\n",
       "            src=\"http://localhost:49648\"\n",
       "            frameborder=\"0\"\n",
       "            allowfullscreen\n",
       "            \n",
       "        ></iframe>\n",
       "        "
      ]
     },
     "execution_count": 8,
     "metadata": {},
     "output_type": "execute_result"
    }
   ],
   "execution_count": 8
  },
  {
   "cell_type": "markdown",
   "id": "56c8915fdf812528",
   "metadata": {},
   "source": [
    "## Creating 3D scatter chart (Age vs Glucose vs BMI)"
   ]
  },
  {
   "cell_type": "code",
   "id": "fac332baedadc6d3",
   "metadata": {
    "ExecuteTime": {
     "end_time": "2024-07-16T07:00:43.255895Z",
     "start_time": "2024-07-16T07:00:43.205216Z"
    }
   },
   "source": [
    "age_negative = df_negative[\"Age\"].tolist()  # ages to list\n",
    "age_positive = df_positive[\"Age\"].tolist()\n",
    "\n",
    "scatter3d = lc.Chart3D(  # 3d chart instance\n",
    "    theme=lc.Themes.White,\n",
    "    title='Chart 3D',\n",
    ")\n",
    "\n",
    "series_negative = scatter3d.add_point_series(render_2d=False).add(\n",
    "    x=BMI_negative,\n",
    "    y=glucose_negative,\n",
    "    z=age_negative\n",
    ")\n",
    "series_positive = scatter3d.add_point_series(render_2d=False).add(\n",
    "    x=BMI_positive,\n",
    "    y=glucose_positive,\n",
    "    z=age_positive\n",
    ")\n",
    "\n",
    "series_negative.set_point_color(lc.Color(0, 255, 0, 192)).set_name(\"Diabetes Negative\")\n",
    "series_positive.set_point_color(lc.Color(255, 0, 0, 192)).set_name(\"Diabetes Positive\")\n",
    "\n",
    "\n",
    "scatter3d.get_default_x_axis().set_title(\"BMI\")  \n",
    "scatter3d.get_default_y_axis().set_title(\"Glucose\")\n",
    "scatter3d.get_default_z_axis().set_title(\"Age\")\n",
    "scatter3d.add_legend().add(scatter3d)\n",
    "scatter3d.open()"
   ],
   "outputs": [
    {
     "data": {
      "text/plain": [
       "<IPython.lib.display.IFrame at 0x1156d6110>"
      ],
      "text/html": [
       "\n",
       "        <iframe\n",
       "            width=\"100%\"\n",
       "            height=\"600\"\n",
       "            src=\"http://localhost:49649\"\n",
       "            frameborder=\"0\"\n",
       "            allowfullscreen\n",
       "            \n",
       "        ></iframe>\n",
       "        "
      ]
     },
     "execution_count": 9,
     "metadata": {},
     "output_type": "execute_result"
    }
   ],
   "execution_count": 9
  },
  {
   "cell_type": "markdown",
   "id": "526882a71c57bf77",
   "metadata": {},
   "source": [
    "## Creating stacked bar chart"
   ]
  },
  {
   "cell_type": "code",
   "id": "6a0ec4d75e7152be",
   "metadata": {
    "ExecuteTime": {
     "end_time": "2024-07-16T07:00:43.283737Z",
     "start_time": "2024-07-16T07:00:43.261111Z"
    }
   },
   "source": [
    "outcome_counts = df.groupby(['Age_range', 'Outcome_label'], observed=True).size().unstack(fill_value=0).reset_index()  # ages to columns\n",
    "\n",
    "result = []\n",
    "for outcome_label in ['Diabetes Negative', 'Diabetes Positive']:  # make json-like formation of data\n",
    "    values = outcome_counts[outcome_label].tolist()   \n",
    "    result.append({                     \n",
    "        'subCategory': outcome_label,\n",
    "        'values': values\n",
    "    })"
   ],
   "outputs": [],
   "execution_count": 10
  },
  {
   "cell_type": "code",
   "id": "1d7c3c51392bbbfa",
   "metadata": {
    "ExecuteTime": {
     "end_time": "2024-07-16T07:00:43.333315Z",
     "start_time": "2024-07-16T07:00:43.297051Z"
    }
   },
   "source": [
    "barchart_stacked = lc.BarChart(  # initialize bar chart\n",
    "    vertical=True,\n",
    "    theme=lc.Themes.White,\n",
    "    title='Stacked Bar Chart',\n",
    ").set_value_label_display_mode('insideBar')  # count of entries is inside bar, default - outside\n",
    "barchart_stacked.set_data_stacked(labels, result)  # set data\n",
    "barchart_stacked.add_legend().add(barchart_stacked)  # add legend\n",
    "barchart_stacked.open()"
   ],
   "outputs": [
    {
     "data": {
      "text/plain": [
       "<IPython.lib.display.IFrame at 0x1156ea310>"
      ],
      "text/html": [
       "\n",
       "        <iframe\n",
       "            width=\"100%\"\n",
       "            height=\"600\"\n",
       "            src=\"http://localhost:49650\"\n",
       "            frameborder=\"0\"\n",
       "            allowfullscreen\n",
       "            \n",
       "        ></iframe>\n",
       "        "
      ]
     },
     "execution_count": 11,
     "metadata": {},
     "output_type": "execute_result"
    }
   ],
   "execution_count": 11
  },
  {
   "cell_type": "markdown",
   "id": "4ffacf4961157f20",
   "metadata": {},
   "source": [
    "## Creating box plots"
   ]
  },
  {
   "cell_type": "code",
   "id": "e6d02c7b29349f7d",
   "metadata": {
    "ExecuteTime": {
     "end_time": "2024-07-16T07:00:43.380295Z",
     "start_time": "2024-07-16T07:00:43.339582Z"
    }
   },
   "source": [
    "glucose_diabetes = df_positive['Glucose'].values  # divide entries by diabetes\n",
    "glucose_no_diabetes = df_negative['Glucose'].values\n",
    "\n",
    "boxplt = lc.BoxPlot(  # init bax plot\n",
    "    data=[glucose_no_diabetes, glucose_diabetes],\n",
    "    theme=lc.Themes.White,\n",
    "    title='Glucose',\n",
    "    xlabel='No diabetes (left), Diabetes positive (right)',\n",
    "    ylabel='Glucose'\n",
    ")\n",
    "boxplt.open()"
   ],
   "outputs": [
    {
     "data": {
      "text/plain": [
       "<IPython.lib.display.IFrame at 0x1156f4390>"
      ],
      "text/html": [
       "\n",
       "        <iframe\n",
       "            width=\"100%\"\n",
       "            height=\"600\"\n",
       "            src=\"http://localhost:49651\"\n",
       "            frameborder=\"0\"\n",
       "            allowfullscreen\n",
       "            \n",
       "        ></iframe>\n",
       "        "
      ]
     },
     "execution_count": 12,
     "metadata": {},
     "output_type": "execute_result"
    }
   ],
   "execution_count": 12
  },
  {
   "cell_type": "code",
   "id": "fd2cef52d8089ed0",
   "metadata": {
    "ExecuteTime": {
     "end_time": "2024-07-16T07:00:43.406450Z",
     "start_time": "2024-07-16T07:00:43.386076Z"
    }
   },
   "source": [
    "pregnancies_diabetes = df_positive['Pregnancies'].values\n",
    "pregnancies_no_diabetes = df_negative['Pregnancies'].values\n",
    "\n",
    "boxplt1 = lc.BoxPlot(\n",
    "    data=[pregnancies_no_diabetes, pregnancies_diabetes],\n",
    "    theme=lc.Themes.White,\n",
    "    title='Pregnancies',\n",
    "    xlabel='No diabetes (left), Diabetes positive (right)',\n",
    "    ylabel='Pregnancies'\n",
    ")\n",
    "boxplt1.open()"
   ],
   "outputs": [
    {
     "data": {
      "text/plain": [
       "<IPython.lib.display.IFrame at 0x1156e8890>"
      ],
      "text/html": [
       "\n",
       "        <iframe\n",
       "            width=\"100%\"\n",
       "            height=\"600\"\n",
       "            src=\"http://localhost:49652\"\n",
       "            frameborder=\"0\"\n",
       "            allowfullscreen\n",
       "            \n",
       "        ></iframe>\n",
       "        "
      ]
     },
     "execution_count": 13,
     "metadata": {},
     "output_type": "execute_result"
    }
   ],
   "execution_count": 13
  },
  {
   "cell_type": "code",
   "id": "24dc4255-95e1-4f98-ba18-bcbc406919d1",
   "metadata": {
    "ExecuteTime": {
     "end_time": "2024-07-16T07:00:43.417064Z",
     "start_time": "2024-07-16T07:00:43.410314Z"
    }
   },
   "source": [],
   "outputs": [],
   "execution_count": 13
  }
 ],
 "metadata": {
  "kernelspec": {
   "display_name": "Python 3 (ipykernel)",
   "language": "python",
   "name": "python3"
  },
  "language_info": {
   "codemirror_mode": {
    "name": "ipython",
    "version": 3
   },
   "file_extension": ".py",
   "mimetype": "text/x-python",
   "name": "python",
   "nbconvert_exporter": "python",
   "pygments_lexer": "ipython3",
   "version": "3.11.4"
  }
 },
 "nbformat": 4,
 "nbformat_minor": 5
}
